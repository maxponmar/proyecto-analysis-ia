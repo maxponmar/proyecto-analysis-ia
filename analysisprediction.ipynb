{
 "cells": [
  {
   "cell_type": "markdown",
   "metadata": {},
   "source": [
    "# Importando librerias"
   ]
  },
  {
   "cell_type": "code",
   "execution_count": 1,
   "metadata": {},
   "outputs": [],
   "source": [
    "import numpy as np\n",
    "import matplotlib.pyplot as plt\n",
    "import pandas as pd\n",
    "import tensorflow as tf"
   ]
  },
  {
   "cell_type": "markdown",
   "metadata": {},
   "source": [
    "Se valida que tensorflow este instalado"
   ]
  },
  {
   "cell_type": "code",
   "execution_count": null,
   "metadata": {},
   "outputs": [],
   "source": [
    "tf.__version__"
   ]
  },
  {
   "cell_type": "markdown",
   "metadata": {},
   "source": [
    "# Parte 1 - Preprosesando los datos"
   ]
  },
  {
   "cell_type": "markdown",
   "metadata": {},
   "source": [
    "## Importar el dataset"
   ]
  },
  {
   "cell_type": "code",
   "execution_count": 2,
   "metadata": {},
   "outputs": [],
   "source": [
    "dataset = pd.read_csv('filtered-dataset.csv')\n",
    "# Solo se toman las columnas de la 7ma en adelante\n",
    "X = dataset.iloc[:,:-1].values\n",
    "y = dataset.iloc[:,-1].values"
   ]
  },
  {
   "cell_type": "code",
   "execution_count": null,
   "metadata": {},
   "outputs": [],
   "source": [
    "print(X)"
   ]
  },
  {
   "cell_type": "code",
   "execution_count": null,
   "metadata": {},
   "outputs": [],
   "source": [
    "print(y)"
   ]
  },
  {
   "cell_type": "markdown",
   "metadata": {},
   "source": [
    "## Codificar data categorica (texto)"
   ]
  },
  {
   "cell_type": "code",
   "execution_count": 3,
   "metadata": {},
   "outputs": [
    {
     "name": "stdout",
     "output_type": "stream",
     "text": [
      "(1853,)\n"
     ]
    }
   ],
   "source": [
    "from sklearn.compose import ColumnTransformer\n",
    "from sklearn.preprocessing import OneHotEncoder\n",
    "\n",
    "ctPruebas = ColumnTransformer(transformers=[('encoder', OneHotEncoder(sparse=False), [0])],remainder='passthrough')\n",
    "X = np.array(ctPruebas.fit_transform(X))\n",
    "\n",
    "ctUnidadesMedida = ColumnTransformer(transformers=[('encoder', OneHotEncoder(sparse=False), [-2])],remainder='passthrough')\n",
    "X = np.array(ctUnidadesMedida.fit_transform(X))\n",
    "\n",
    "print(X[0].shape)"
   ]
  },
  {
   "cell_type": "code",
   "execution_count": 4,
   "metadata": {},
   "outputs": [
    {
     "name": "stdout",
     "output_type": "stream",
     "text": [
      "(521,)\n"
     ]
    }
   ],
   "source": [
    "from sklearn.compose import ColumnTransformer\n",
    "from sklearn.preprocessing import OneHotEncoder\n",
    "\n",
    "ctPruebas = ColumnTransformer(transformers=[('encoder', OneHotEncoder(sparse=False), [0])],remainder='passthrough')\n",
    "y = np.array(ctPruebas.fit_transform(y.reshape(-1,1)))\n",
    "\n",
    "print(y[0].shape)"
   ]
  },
  {
   "cell_type": "markdown",
   "metadata": {},
   "source": [
    "## Dividir el dataset entre el training set y el test set"
   ]
  },
  {
   "cell_type": "code",
   "execution_count": 5,
   "metadata": {},
   "outputs": [],
   "source": [
    "from sklearn.model_selection import train_test_split\n",
    "X_train, X_test, y_train, y_test = train_test_split(X, y, test_size=0.2, random_state=0)"
   ]
  },
  {
   "cell_type": "markdown",
   "metadata": {},
   "source": [
    "## Escalamiento de los datos"
   ]
  },
  {
   "cell_type": "code",
   "execution_count": 6,
   "metadata": {},
   "outputs": [],
   "source": [
    "from sklearn.preprocessing import StandardScaler\n",
    "sc = StandardScaler()\n",
    "X_train = sc.fit_transform(X_train)\n",
    "X_test = sc.transform(X_test)"
   ]
  },
  {
   "cell_type": "markdown",
   "metadata": {},
   "source": [
    "# Parte 2 - Contruyendo la Red Neuronal"
   ]
  },
  {
   "cell_type": "markdown",
   "metadata": {},
   "source": [
    "## Inicializar la Red Neuronal"
   ]
  },
  {
   "cell_type": "code",
   "execution_count": 19,
   "metadata": {},
   "outputs": [],
   "source": [
    "\n",
    "ann = tf.keras.models.Sequential()"
   ]
  },
  {
   "cell_type": "markdown",
   "metadata": {},
   "source": [
    "## Agregar capa de entrada y primera capa oculta a la red neuronal"
   ]
  },
  {
   "cell_type": "code",
   "execution_count": 20,
   "metadata": {},
   "outputs": [],
   "source": [
    "ann.add(tf.keras.layers.Dense(units = 1853, activation='relu'))"
   ]
  },
  {
   "cell_type": "markdown",
   "metadata": {},
   "source": [
    "## Se agregan mas capas ocultas"
   ]
  },
  {
   "cell_type": "code",
   "execution_count": 21,
   "metadata": {},
   "outputs": [],
   "source": [
    "ann.add(tf.keras.layers.Dense(units = 2000, activation='relu'))\n",
    "ann.add(tf.keras.layers.Dense(units = 2000, activation='relu'))\n",
    "ann.add(tf.keras.layers.Dense(units = 1500, activation='relu'))\n",
    "ann.add(tf.keras.layers.Dense(units = 1000, activation='relu'))\n",
    "ann.add(tf.keras.layers.Dense(units = 1000, activation='relu'))\n",
    "ann.add(tf.keras.layers.Dense(units = 800, activation='relu'))\n",
    "ann.add(tf.keras.layers.Dense(units = 700, activation='relu'))"
   ]
  },
  {
   "cell_type": "markdown",
   "metadata": {},
   "source": [
    "## Se agrega la capa de salida"
   ]
  },
  {
   "cell_type": "code",
   "execution_count": 22,
   "metadata": {},
   "outputs": [],
   "source": [
    "ann.add(tf.keras.layers.Dense(units = 521, activation='softmax'))"
   ]
  },
  {
   "cell_type": "markdown",
   "metadata": {},
   "source": [
    "# Parte 3 - Entrenar la red neuronal"
   ]
  },
  {
   "cell_type": "markdown",
   "metadata": {},
   "source": [
    "## Compilando la red neuronal"
   ]
  },
  {
   "cell_type": "code",
   "execution_count": 23,
   "metadata": {},
   "outputs": [],
   "source": [
    "ann.compile(optimizer = 'adam', loss = 'categorical_crossentropy', metrics = ['accuracy'])"
   ]
  },
  {
   "cell_type": "markdown",
   "metadata": {},
   "source": [
    "## Entrenar la red neuronal con el training set"
   ]
  },
  {
   "cell_type": "code",
   "execution_count": 24,
   "metadata": {},
   "outputs": [
    {
     "name": "stdout",
     "output_type": "stream",
     "text": [
      "Epoch 1/200\n",
      "358/358 [==============================] - 6s 12ms/step - loss: 4.6626 - accuracy: 0.0934\n",
      "Epoch 2/200\n",
      "358/358 [==============================] - 5s 13ms/step - loss: 3.8569 - accuracy: 0.1983\n",
      "Epoch 3/200\n",
      "358/358 [==============================] - 4s 12ms/step - loss: 3.3313 - accuracy: 0.2727\n",
      "Epoch 4/200\n",
      "358/358 [==============================] - 4s 13ms/step - loss: 2.9866 - accuracy: 0.3229\n",
      "Epoch 5/200\n",
      "358/358 [==============================] - 5s 13ms/step - loss: 2.7442 - accuracy: 0.3610\n",
      "Epoch 6/200\n",
      "358/358 [==============================] - 4s 12ms/step - loss: 2.5947 - accuracy: 0.3821\n",
      "Epoch 7/200\n",
      "358/358 [==============================] - 5s 13ms/step - loss: 2.4688 - accuracy: 0.4009\n",
      "Epoch 8/200\n",
      "358/358 [==============================] - 4s 12ms/step - loss: 2.3853 - accuracy: 0.4051\n",
      "Epoch 9/200\n",
      "358/358 [==============================] - 4s 12ms/step - loss: 2.3260 - accuracy: 0.4088\n",
      "Epoch 10/200\n",
      "358/358 [==============================] - 5s 13ms/step - loss: 2.2323 - accuracy: 0.4172\n",
      "Epoch 11/200\n",
      "358/358 [==============================] - 4s 12ms/step - loss: 2.1461 - accuracy: 0.4334\n",
      "Epoch 12/200\n",
      "358/358 [==============================] - 4s 12ms/step - loss: 2.0757 - accuracy: 0.4399\n",
      "Epoch 13/200\n",
      "358/358 [==============================] - 4s 12ms/step - loss: 2.0214 - accuracy: 0.4488\n",
      "Epoch 14/200\n",
      "358/358 [==============================] - 4s 12ms/step - loss: 1.9839 - accuracy: 0.4556\n",
      "Epoch 15/200\n",
      "358/358 [==============================] - 4s 12ms/step - loss: 1.9351 - accuracy: 0.4618\n",
      "Epoch 16/200\n",
      "358/358 [==============================] - 4s 12ms/step - loss: 1.8900 - accuracy: 0.4708\n",
      "Epoch 17/200\n",
      "358/358 [==============================] - 4s 12ms/step - loss: 1.8910 - accuracy: 0.4713\n",
      "Epoch 18/200\n",
      "358/358 [==============================] - 4s 12ms/step - loss: 1.8377 - accuracy: 0.4759\n",
      "Epoch 19/200\n",
      "358/358 [==============================] - 5s 13ms/step - loss: 1.8011 - accuracy: 0.4892\n",
      "Epoch 20/200\n",
      "358/358 [==============================] - 4s 12ms/step - loss: 1.7725 - accuracy: 0.4903\n",
      "Epoch 21/200\n",
      "358/358 [==============================] - 5s 13ms/step - loss: 1.8048 - accuracy: 0.4927\n",
      "Epoch 22/200\n",
      "358/358 [==============================] - 4s 12ms/step - loss: 1.7374 - accuracy: 0.5010\n",
      "Epoch 23/200\n",
      "358/358 [==============================] - 4s 12ms/step - loss: 1.7155 - accuracy: 0.4989\n",
      "Epoch 24/200\n",
      "358/358 [==============================] - 4s 12ms/step - loss: 1.6898 - accuracy: 0.5034\n",
      "Epoch 25/200\n",
      "358/358 [==============================] - 4s 12ms/step - loss: 1.6908 - accuracy: 0.5122\n",
      "Epoch 26/200\n",
      "358/358 [==============================] - 4s 12ms/step - loss: 1.6606 - accuracy: 0.5148\n",
      "Epoch 27/200\n",
      "358/358 [==============================] - 5s 13ms/step - loss: 1.6385 - accuracy: 0.5162\n",
      "Epoch 28/200\n",
      "358/358 [==============================] - 4s 12ms/step - loss: 1.6359 - accuracy: 0.5163\n",
      "Epoch 29/200\n",
      "358/358 [==============================] - 4s 12ms/step - loss: 1.6368 - accuracy: 0.5187\n",
      "Epoch 30/200\n",
      "358/358 [==============================] - 5s 13ms/step - loss: 1.6166 - accuracy: 0.5197\n",
      "Epoch 31/200\n",
      "358/358 [==============================] - 5s 13ms/step - loss: 1.6095 - accuracy: 0.5198\n",
      "Epoch 32/200\n",
      "358/358 [==============================] - 4s 11ms/step - loss: 1.6055 - accuracy: 0.5243\n",
      "Epoch 33/200\n",
      "358/358 [==============================] - 4s 11ms/step - loss: 1.6030 - accuracy: 0.5231\n",
      "Epoch 34/200\n",
      "358/358 [==============================] - 4s 11ms/step - loss: 1.5895 - accuracy: 0.5298\n",
      "Epoch 35/200\n",
      "358/358 [==============================] - 3s 9ms/step - loss: 1.6207 - accuracy: 0.5238\n",
      "Epoch 36/200\n",
      "358/358 [==============================] - 3s 9ms/step - loss: 1.5520 - accuracy: 0.5307\n",
      "Epoch 37/200\n",
      "358/358 [==============================] - 4s 11ms/step - loss: 1.5517 - accuracy: 0.5317\n",
      "Epoch 38/200\n",
      "358/358 [==============================] - 4s 12ms/step - loss: 1.6038 - accuracy: 0.5287\n",
      "Epoch 39/200\n",
      "358/358 [==============================] - 4s 10ms/step - loss: 1.6059 - accuracy: 0.5259\n",
      "Epoch 40/200\n",
      "358/358 [==============================] - 3s 8ms/step - loss: 1.5880 - accuracy: 0.5301\n",
      "Epoch 41/200\n",
      "358/358 [==============================] - 3s 8ms/step - loss: 1.5686 - accuracy: 0.5342\n",
      "Epoch 42/200\n",
      "358/358 [==============================] - 3s 8ms/step - loss: 1.5541 - accuracy: 0.5324\n",
      "Epoch 43/200\n",
      "358/358 [==============================] - 3s 9ms/step - loss: 1.5310 - accuracy: 0.5401\n",
      "Epoch 44/200\n",
      "358/358 [==============================] - 3s 8ms/step - loss: 1.5260 - accuracy: 0.5372\n",
      "Epoch 45/200\n",
      "358/358 [==============================] - 3s 8ms/step - loss: 1.6783 - accuracy: 0.5290\n",
      "Epoch 46/200\n",
      "358/358 [==============================] - 3s 8ms/step - loss: 1.5811 - accuracy: 0.5315\n",
      "Epoch 47/200\n",
      "358/358 [==============================] - 3s 8ms/step - loss: 1.5983 - accuracy: 0.5343\n",
      "Epoch 48/200\n",
      "358/358 [==============================] - 3s 8ms/step - loss: 1.5254 - accuracy: 0.5360\n",
      "Epoch 49/200\n",
      "358/358 [==============================] - 3s 9ms/step - loss: 1.5451 - accuracy: 0.5437\n",
      "Epoch 50/200\n",
      "358/358 [==============================] - 3s 8ms/step - loss: 1.7003 - accuracy: 0.5278\n",
      "Epoch 51/200\n",
      "358/358 [==============================] - 3s 7ms/step - loss: 1.6083 - accuracy: 0.5229\n",
      "Epoch 52/200\n",
      "358/358 [==============================] - 3s 7ms/step - loss: 1.5696 - accuracy: 0.5305\n",
      "Epoch 53/200\n",
      "358/358 [==============================] - 3s 8ms/step - loss: 1.5821 - accuracy: 0.5414\n",
      "Epoch 54/200\n",
      "358/358 [==============================] - 3s 7ms/step - loss: 1.5171 - accuracy: 0.5418\n",
      "Epoch 55/200\n",
      "358/358 [==============================] - 3s 8ms/step - loss: 1.4851 - accuracy: 0.5443\n",
      "Epoch 56/200\n",
      "358/358 [==============================] - 3s 7ms/step - loss: 1.4758 - accuracy: 0.5515\n",
      "Epoch 57/200\n",
      "358/358 [==============================] - 3s 7ms/step - loss: 1.5045 - accuracy: 0.5446\n",
      "Epoch 58/200\n",
      "358/358 [==============================] - 3s 7ms/step - loss: 1.5527 - accuracy: 0.5363\n",
      "Epoch 59/200\n",
      "358/358 [==============================] - 3s 9ms/step - loss: 1.5174 - accuracy: 0.5445\n",
      "Epoch 60/200\n",
      "358/358 [==============================] - 3s 9ms/step - loss: 1.5425 - accuracy: 0.5431\n",
      "Epoch 61/200\n",
      "358/358 [==============================] - 3s 8ms/step - loss: 1.7472 - accuracy: 0.5168\n",
      "Epoch 62/200\n",
      "358/358 [==============================] - 3s 7ms/step - loss: 1.6500 - accuracy: 0.5227\n",
      "Epoch 63/200\n",
      "358/358 [==============================] - 3s 7ms/step - loss: 1.5585 - accuracy: 0.5373\n",
      "Epoch 64/200\n",
      "358/358 [==============================] - 3s 8ms/step - loss: 1.5390 - accuracy: 0.5452\n",
      "Epoch 65/200\n",
      "358/358 [==============================] - 3s 7ms/step - loss: 1.5171 - accuracy: 0.5451\n",
      "Epoch 66/200\n",
      "358/358 [==============================] - 3s 7ms/step - loss: 1.4991 - accuracy: 0.5425\n",
      "Epoch 67/200\n",
      "358/358 [==============================] - 3s 8ms/step - loss: 1.5557 - accuracy: 0.5417\n",
      "Epoch 68/200\n",
      "358/358 [==============================] - 3s 8ms/step - loss: 1.5017 - accuracy: 0.5482\n",
      "Epoch 69/200\n",
      "358/358 [==============================] - 3s 8ms/step - loss: 1.6223 - accuracy: 0.5339\n",
      "Epoch 70/200\n",
      "358/358 [==============================] - 3s 9ms/step - loss: 1.5439 - accuracy: 0.5434\n",
      "Epoch 71/200\n",
      "358/358 [==============================] - 3s 8ms/step - loss: 1.5131 - accuracy: 0.5451\n",
      "Epoch 72/200\n",
      "358/358 [==============================] - 3s 8ms/step - loss: 1.5020 - accuracy: 0.5465\n",
      "Epoch 73/200\n",
      "358/358 [==============================] - 3s 8ms/step - loss: 1.5249 - accuracy: 0.5454\n",
      "Epoch 74/200\n",
      "358/358 [==============================] - 3s 8ms/step - loss: 1.5147 - accuracy: 0.5471\n",
      "Epoch 75/200\n",
      "358/358 [==============================] - 3s 8ms/step - loss: 1.5221 - accuracy: 0.5450\n",
      "Epoch 76/200\n",
      "358/358 [==============================] - 3s 8ms/step - loss: 1.9135 - accuracy: 0.5400\n",
      "Epoch 77/200\n",
      "358/358 [==============================] - 3s 8ms/step - loss: 1.6871 - accuracy: 0.5350\n",
      "Epoch 78/200\n",
      "358/358 [==============================] - 3s 8ms/step - loss: 1.5419 - accuracy: 0.5398\n",
      "Epoch 79/200\n",
      "358/358 [==============================] - 3s 8ms/step - loss: 1.5304 - accuracy: 0.5436\n",
      "Epoch 80/200\n",
      "358/358 [==============================] - 3s 8ms/step - loss: 1.4982 - accuracy: 0.5503\n",
      "Epoch 81/200\n",
      "358/358 [==============================] - 3s 9ms/step - loss: 1.5550 - accuracy: 0.5403\n",
      "Epoch 82/200\n",
      "358/358 [==============================] - 3s 8ms/step - loss: 1.5253 - accuracy: 0.5443\n",
      "Epoch 83/200\n",
      "358/358 [==============================] - 3s 8ms/step - loss: 1.5679 - accuracy: 0.5418\n",
      "Epoch 84/200\n",
      "358/358 [==============================] - 3s 8ms/step - loss: 1.6617 - accuracy: 0.5371\n",
      "Epoch 85/200\n",
      "358/358 [==============================] - 3s 7ms/step - loss: 1.5546 - accuracy: 0.5415\n",
      "Epoch 86/200\n",
      "358/358 [==============================] - 3s 8ms/step - loss: 1.5157 - accuracy: 0.5485\n",
      "Epoch 87/200\n",
      "358/358 [==============================] - 3s 8ms/step - loss: 1.5321 - accuracy: 0.5483\n",
      "Epoch 88/200\n",
      "358/358 [==============================] - 3s 8ms/step - loss: 1.4877 - accuracy: 0.5494\n",
      "Epoch 89/200\n",
      "358/358 [==============================] - 3s 8ms/step - loss: 1.7226 - accuracy: 0.5380\n",
      "Epoch 90/200\n",
      "358/358 [==============================] - 3s 7ms/step - loss: 1.7004 - accuracy: 0.5275\n",
      "Epoch 91/200\n",
      "358/358 [==============================] - 3s 8ms/step - loss: 1.7309 - accuracy: 0.5229\n",
      "Epoch 92/200\n",
      "358/358 [==============================] - 3s 8ms/step - loss: 1.7779 - accuracy: 0.5308\n",
      "Epoch 93/200\n",
      "358/358 [==============================] - 3s 7ms/step - loss: 1.6145 - accuracy: 0.5292\n",
      "Epoch 94/200\n",
      "358/358 [==============================] - 3s 8ms/step - loss: 1.5485 - accuracy: 0.5404\n",
      "Epoch 95/200\n",
      "358/358 [==============================] - 3s 8ms/step - loss: 1.5379 - accuracy: 0.5429\n",
      "Epoch 96/200\n",
      "358/358 [==============================] - 3s 8ms/step - loss: 1.5271 - accuracy: 0.5449\n",
      "Epoch 97/200\n",
      "358/358 [==============================] - 3s 8ms/step - loss: 1.5172 - accuracy: 0.5477\n",
      "Epoch 98/200\n",
      "358/358 [==============================] - 3s 7ms/step - loss: 1.4873 - accuracy: 0.5484\n",
      "Epoch 99/200\n",
      "358/358 [==============================] - 3s 7ms/step - loss: 1.4930 - accuracy: 0.5493\n",
      "Epoch 100/200\n",
      "358/358 [==============================] - 3s 7ms/step - loss: 1.5047 - accuracy: 0.5489\n",
      "Epoch 101/200\n",
      "358/358 [==============================] - 3s 8ms/step - loss: 1.4964 - accuracy: 0.5494\n",
      "Epoch 102/200\n",
      "358/358 [==============================] - 4s 10ms/step - loss: 1.7146 - accuracy: 0.5335\n",
      "Epoch 103/200\n",
      "358/358 [==============================] - 3s 8ms/step - loss: 1.7243 - accuracy: 0.5245\n",
      "Epoch 104/200\n",
      "358/358 [==============================] - 3s 9ms/step - loss: 1.9409 - accuracy: 0.4985\n",
      "Epoch 105/200\n",
      "358/358 [==============================] - 3s 9ms/step - loss: 1.7257 - accuracy: 0.5134\n",
      "Epoch 106/200\n",
      "358/358 [==============================] - 3s 9ms/step - loss: 1.5971 - accuracy: 0.5301\n",
      "Epoch 107/200\n",
      "358/358 [==============================] - 3s 8ms/step - loss: 1.5659 - accuracy: 0.5387\n",
      "Epoch 108/200\n",
      "358/358 [==============================] - 3s 8ms/step - loss: 1.5381 - accuracy: 0.5438\n",
      "Epoch 109/200\n",
      "358/358 [==============================] - 3s 8ms/step - loss: 1.5816 - accuracy: 0.5401\n",
      "Epoch 110/200\n",
      "358/358 [==============================] - 3s 8ms/step - loss: 1.6604 - accuracy: 0.5255\n",
      "Epoch 111/200\n",
      "358/358 [==============================] - 3s 8ms/step - loss: 1.6640 - accuracy: 0.5246\n",
      "Epoch 112/200\n",
      "358/358 [==============================] - 3s 9ms/step - loss: 1.5652 - accuracy: 0.5411\n",
      "Epoch 113/200\n",
      "358/358 [==============================] - 3s 8ms/step - loss: 1.5409 - accuracy: 0.5418\n",
      "Epoch 114/200\n",
      "358/358 [==============================] - 3s 8ms/step - loss: 1.5110 - accuracy: 0.5429\n",
      "Epoch 115/200\n",
      "358/358 [==============================] - 3s 8ms/step - loss: 1.5701 - accuracy: 0.5397\n",
      "Epoch 116/200\n",
      "358/358 [==============================] - 3s 8ms/step - loss: 1.5655 - accuracy: 0.5409\n",
      "Epoch 117/200\n",
      "358/358 [==============================] - 3s 8ms/step - loss: 1.6035 - accuracy: 0.5302\n",
      "Epoch 118/200\n",
      "358/358 [==============================] - 3s 8ms/step - loss: 1.6183 - accuracy: 0.5278\n",
      "Epoch 119/200\n",
      "358/358 [==============================] - 3s 8ms/step - loss: 1.7277 - accuracy: 0.5198\n",
      "Epoch 120/200\n",
      "358/358 [==============================] - 3s 8ms/step - loss: 1.7665 - accuracy: 0.5120\n",
      "Epoch 121/200\n",
      "358/358 [==============================] - 3s 8ms/step - loss: 1.8081 - accuracy: 0.5074\n",
      "Epoch 122/200\n",
      "358/358 [==============================] - 3s 8ms/step - loss: 1.6501 - accuracy: 0.5231\n",
      "Epoch 123/200\n",
      "358/358 [==============================] - 3s 8ms/step - loss: 1.6017 - accuracy: 0.5295\n",
      "Epoch 124/200\n",
      "358/358 [==============================] - 3s 8ms/step - loss: 1.5798 - accuracy: 0.5334\n",
      "Epoch 125/200\n",
      "358/358 [==============================] - 3s 7ms/step - loss: 1.5966 - accuracy: 0.5333\n",
      "Epoch 126/200\n",
      "358/358 [==============================] - 3s 8ms/step - loss: 1.6211 - accuracy: 0.5307\n",
      "Epoch 127/200\n",
      "358/358 [==============================] - 3s 9ms/step - loss: 1.6262 - accuracy: 0.5293\n",
      "Epoch 128/200\n",
      "358/358 [==============================] - 3s 7ms/step - loss: 1.7010 - accuracy: 0.5219\n",
      "Epoch 129/200\n",
      "358/358 [==============================] - 3s 9ms/step - loss: 1.6333 - accuracy: 0.5261\n",
      "Epoch 130/200\n",
      "358/358 [==============================] - 4s 10ms/step - loss: 1.6594 - accuracy: 0.5263\n",
      "Epoch 131/200\n",
      "358/358 [==============================] - 3s 8ms/step - loss: 1.5825 - accuracy: 0.5324\n",
      "Epoch 132/200\n",
      "358/358 [==============================] - 3s 9ms/step - loss: 1.6155 - accuracy: 0.5404\n",
      "Epoch 133/200\n",
      "358/358 [==============================] - 3s 9ms/step - loss: 1.6200 - accuracy: 0.5356\n",
      "Epoch 134/200\n",
      "358/358 [==============================] - 3s 8ms/step - loss: 1.6417 - accuracy: 0.5300\n",
      "Epoch 135/200\n",
      "358/358 [==============================] - 3s 8ms/step - loss: 1.6679 - accuracy: 0.5243\n",
      "Epoch 136/200\n",
      "358/358 [==============================] - 3s 8ms/step - loss: 1.6719 - accuracy: 0.5279\n",
      "Epoch 137/200\n",
      "358/358 [==============================] - 3s 8ms/step - loss: 1.6052 - accuracy: 0.5283\n",
      "Epoch 138/200\n",
      "358/358 [==============================] - 3s 8ms/step - loss: 1.6636 - accuracy: 0.5254\n",
      "Epoch 139/200\n",
      "358/358 [==============================] - 3s 8ms/step - loss: 1.7290 - accuracy: 0.5176\n",
      "Epoch 140/200\n",
      "358/358 [==============================] - 3s 8ms/step - loss: 1.8185 - accuracy: 0.5097\n",
      "Epoch 141/200\n",
      "358/358 [==============================] - 3s 8ms/step - loss: 1.6789 - accuracy: 0.5204\n",
      "Epoch 142/200\n",
      "358/358 [==============================] - 3s 9ms/step - loss: 1.6334 - accuracy: 0.5287\n",
      "Epoch 143/200\n",
      "358/358 [==============================] - 3s 9ms/step - loss: 1.5846 - accuracy: 0.5338\n",
      "Epoch 144/200\n",
      "358/358 [==============================] - 3s 8ms/step - loss: 1.8038 - accuracy: 0.5257\n",
      "Epoch 145/200\n",
      "358/358 [==============================] - 3s 8ms/step - loss: 1.8306 - accuracy: 0.5119\n",
      "Epoch 146/200\n",
      "358/358 [==============================] - 3s 8ms/step - loss: 1.7568 - accuracy: 0.5233\n",
      "Epoch 147/200\n",
      "358/358 [==============================] - 3s 8ms/step - loss: 1.7408 - accuracy: 0.5234\n",
      "Epoch 148/200\n",
      "358/358 [==============================] - 3s 8ms/step - loss: 1.7374 - accuracy: 0.5284\n",
      "Epoch 149/200\n",
      "358/358 [==============================] - 3s 8ms/step - loss: 1.8980 - accuracy: 0.5305\n",
      "Epoch 150/200\n",
      "358/358 [==============================] - 3s 8ms/step - loss: 1.6317 - accuracy: 0.5283\n",
      "Epoch 151/200\n",
      "358/358 [==============================] - 3s 8ms/step - loss: 1.6150 - accuracy: 0.5284\n",
      "Epoch 152/200\n",
      "358/358 [==============================] - 3s 8ms/step - loss: 1.6359 - accuracy: 0.5245\n",
      "Epoch 153/200\n",
      "358/358 [==============================] - 3s 8ms/step - loss: 1.6495 - accuracy: 0.5267\n",
      "Epoch 154/200\n",
      "358/358 [==============================] - 3s 8ms/step - loss: 1.7309 - accuracy: 0.5210\n",
      "Epoch 155/200\n",
      "358/358 [==============================] - 3s 8ms/step - loss: 4.5113 - accuracy: 0.5035\n",
      "Epoch 156/200\n",
      "358/358 [==============================] - 3s 8ms/step - loss: 1.8622 - accuracy: 0.5041\n",
      "Epoch 157/200\n",
      "358/358 [==============================] - 3s 8ms/step - loss: 1.7301 - accuracy: 0.5140\n",
      "Epoch 158/200\n",
      "358/358 [==============================] - 3s 7ms/step - loss: 1.6836 - accuracy: 0.5160\n",
      "Epoch 159/200\n",
      "358/358 [==============================] - 3s 7ms/step - loss: 1.7373 - accuracy: 0.5211\n",
      "Epoch 160/200\n",
      "358/358 [==============================] - 3s 8ms/step - loss: 1.7078 - accuracy: 0.5234\n",
      "Epoch 161/200\n",
      "358/358 [==============================] - 3s 8ms/step - loss: 1.7855 - accuracy: 0.5070\n",
      "Epoch 162/200\n",
      "358/358 [==============================] - 3s 8ms/step - loss: 1.7207 - accuracy: 0.5160\n",
      "Epoch 163/200\n",
      "358/358 [==============================] - 3s 8ms/step - loss: 1.7191 - accuracy: 0.5194\n",
      "Epoch 164/200\n",
      "358/358 [==============================] - 3s 8ms/step - loss: 1.6729 - accuracy: 0.5229\n",
      "Epoch 165/200\n",
      "358/358 [==============================] - 3s 8ms/step - loss: 1.6620 - accuracy: 0.5226\n",
      "Epoch 166/200\n",
      "358/358 [==============================] - 3s 8ms/step - loss: 1.6707 - accuracy: 0.5218\n",
      "Epoch 167/200\n",
      "358/358 [==============================] - 3s 8ms/step - loss: 1.6879 - accuracy: 0.5231\n",
      "Epoch 168/200\n",
      "358/358 [==============================] - 3s 8ms/step - loss: 1.7509 - accuracy: 0.5125\n",
      "Epoch 169/200\n",
      "358/358 [==============================] - 3s 8ms/step - loss: 1.7286 - accuracy: 0.5188\n",
      "Epoch 170/200\n",
      "358/358 [==============================] - 3s 8ms/step - loss: 1.8664 - accuracy: 0.5023\n",
      "Epoch 171/200\n",
      "358/358 [==============================] - 3s 8ms/step - loss: 1.9774 - accuracy: 0.4864\n",
      "Epoch 172/200\n",
      "358/358 [==============================] - 3s 8ms/step - loss: 1.8503 - accuracy: 0.4968\n",
      "Epoch 173/200\n",
      "358/358 [==============================] - 3s 8ms/step - loss: 1.9117 - accuracy: 0.4950\n",
      "Epoch 174/200\n",
      "358/358 [==============================] - 3s 7ms/step - loss: 1.8268 - accuracy: 0.4975\n",
      "Epoch 175/200\n",
      "358/358 [==============================] - 3s 8ms/step - loss: 1.8050 - accuracy: 0.4969\n",
      "Epoch 176/200\n",
      "358/358 [==============================] - 3s 8ms/step - loss: 1.8015 - accuracy: 0.5010\n",
      "Epoch 177/200\n",
      "358/358 [==============================] - 3s 8ms/step - loss: 1.7634 - accuracy: 0.5011\n",
      "Epoch 178/200\n",
      "358/358 [==============================] - 3s 8ms/step - loss: 1.8064 - accuracy: 0.5010\n",
      "Epoch 179/200\n",
      "358/358 [==============================] - 3s 8ms/step - loss: 1.8290 - accuracy: 0.4999\n",
      "Epoch 180/200\n",
      "358/358 [==============================] - 3s 9ms/step - loss: 1.7880 - accuracy: 0.5013\n",
      "Epoch 181/200\n",
      "358/358 [==============================] - 3s 8ms/step - loss: 1.7709 - accuracy: 0.5052\n",
      "Epoch 182/200\n",
      "358/358 [==============================] - 3s 9ms/step - loss: 1.8063 - accuracy: 0.5009\n",
      "Epoch 183/200\n",
      "358/358 [==============================] - 3s 8ms/step - loss: 1.8355 - accuracy: 0.4968\n",
      "Epoch 184/200\n",
      "358/358 [==============================] - 3s 9ms/step - loss: 1.8396 - accuracy: 0.5013\n",
      "Epoch 185/200\n",
      "358/358 [==============================] - 3s 9ms/step - loss: 1.8679 - accuracy: 0.4912\n",
      "Epoch 186/200\n",
      "358/358 [==============================] - 3s 8ms/step - loss: 1.7978 - accuracy: 0.5017\n",
      "Epoch 187/200\n",
      "358/358 [==============================] - 3s 8ms/step - loss: 1.8279 - accuracy: 0.5024\n",
      "Epoch 188/200\n",
      "358/358 [==============================] - 3s 8ms/step - loss: 1.8101 - accuracy: 0.5055\n",
      "Epoch 189/200\n",
      "358/358 [==============================] - 3s 7ms/step - loss: 1.8058 - accuracy: 0.5012\n",
      "Epoch 190/200\n",
      "358/358 [==============================] - 3s 8ms/step - loss: 2.1387 - accuracy: 0.4665\n",
      "Epoch 191/200\n",
      "358/358 [==============================] - 3s 8ms/step - loss: 2.0150 - accuracy: 0.4717\n",
      "Epoch 192/200\n",
      "358/358 [==============================] - 3s 8ms/step - loss: 1.9148 - accuracy: 0.4832\n",
      "Epoch 193/200\n",
      "358/358 [==============================] - 3s 8ms/step - loss: 1.8169 - accuracy: 0.4951\n",
      "Epoch 194/200\n",
      "358/358 [==============================] - 3s 8ms/step - loss: 1.8656 - accuracy: 0.4945\n",
      "Epoch 195/200\n",
      "358/358 [==============================] - 3s 9ms/step - loss: 1.9505 - accuracy: 0.4838\n",
      "Epoch 196/200\n",
      "358/358 [==============================] - 3s 8ms/step - loss: 1.9146 - accuracy: 0.4938\n",
      "Epoch 197/200\n",
      "358/358 [==============================] - 3s 8ms/step - loss: 1.7754 - accuracy: 0.5104\n",
      "Epoch 198/200\n",
      "358/358 [==============================] - 3s 9ms/step - loss: 1.7623 - accuracy: 0.5091\n",
      "Epoch 199/200\n",
      "358/358 [==============================] - 4s 10ms/step - loss: 1.9811 - accuracy: 0.4914\n",
      "Epoch 200/200\n",
      "358/358 [==============================] - 3s 9ms/step - loss: 1.9616 - accuracy: 0.4908\n"
     ]
    },
    {
     "data": {
      "text/plain": [
       "<keras.callbacks.History at 0x18e13741970>"
      ]
     },
     "execution_count": 24,
     "metadata": {},
     "output_type": "execute_result"
    }
   ],
   "source": [
    "ann.fit(X_train, y_train, batch_size = 32, epochs = 200)"
   ]
  }
 ],
 "metadata": {
  "kernelspec": {
   "display_name": "Python 3.9.12 ('base')",
   "language": "python",
   "name": "python3"
  },
  "language_info": {
   "codemirror_mode": {
    "name": "ipython",
    "version": 3
   },
   "file_extension": ".py",
   "mimetype": "text/x-python",
   "name": "python",
   "nbconvert_exporter": "python",
   "pygments_lexer": "ipython3",
   "version": "3.9.15"
  },
  "orig_nbformat": 4,
  "vscode": {
   "interpreter": {
    "hash": "12eea7bafc55a1df74fc1169138eb91c286585bc870bcda305a750c592ba726e"
   }
  }
 },
 "nbformat": 4,
 "nbformat_minor": 2
}
