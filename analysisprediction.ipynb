{
 "cells": [
  {
   "cell_type": "markdown",
   "metadata": {},
   "source": [
    "# Importando librerias"
   ]
  },
  {
   "cell_type": "code",
   "execution_count": 2,
   "metadata": {},
   "outputs": [],
   "source": [
    "import numpy as np\n",
    "import matplotlib.pyplot as plt\n",
    "import pandas as pd\n",
    "import tensorflow as tf"
   ]
  },
  {
   "cell_type": "markdown",
   "metadata": {},
   "source": [
    "Se valida que tensorflow este instalado"
   ]
  },
  {
   "cell_type": "code",
   "execution_count": 3,
   "metadata": {},
   "outputs": [
    {
     "data": {
      "text/plain": [
       "'2.10.1'"
      ]
     },
     "execution_count": 3,
     "metadata": {},
     "output_type": "execute_result"
    }
   ],
   "source": [
    "tf.__version__"
   ]
  },
  {
   "cell_type": "markdown",
   "metadata": {},
   "source": [
    "# Parte 1 - Preprosesando los datos"
   ]
  },
  {
   "cell_type": "markdown",
   "metadata": {},
   "source": [
    "## Importar el dataset"
   ]
  },
  {
   "cell_type": "code",
   "execution_count": 74,
   "metadata": {},
   "outputs": [],
   "source": [
    "dataset = pd.read_csv('filtered-dataset.csv')\n",
    "# Solo se toman las columnas de la 7ma en adelante\n",
    "X = dataset.iloc[:,7:-2].values\n",
    "y = dataset.iloc[:,-2].values"
   ]
  },
  {
   "cell_type": "code",
   "execution_count": 15,
   "metadata": {},
   "outputs": [
    {
     "name": "stdout",
     "output_type": "stream",
     "text": [
      "[['504090_AI_P0 Pull up FB' ' V' 4.1 4.5 3.828273058]\n",
      " ['504090_AI_P0 Pull up FB' ' V' 4.1 4.5 3.940582037]\n",
      " ['504090_AI_P0 Pull up FB' ' V' 4.1 4.5 3.940582037]\n",
      " ...\n",
      " ['509860_AI_RP2 On' ' Dec' 2147.0 2297.0 0.0]\n",
      " ['530740_Fuel_Pump_Relay_Ctrl_Ckt Vo' ' V' 0.0 1.0 13.49022865]\n",
      " ['530740_Fuel_Pump_Relay_Ctrl_Ckt Vo' ' V' 0.0 1.0 13.47603035]]\n"
     ]
    }
   ],
   "source": [
    "print(X)"
   ]
  },
  {
   "cell_type": "code",
   "execution_count": 7,
   "metadata": {},
   "outputs": [
    {
     "name": "stdout",
     "output_type": "stream",
     "text": [
      "['IC101' 'IC101' 'IC101' ... 'T1201-R1208' 'T4101 Z1003 C2901 C1702'\n",
      " 'T4101 Z1003 C2901 C1702']\n"
     ]
    }
   ],
   "source": [
    "print(y)"
   ]
  },
  {
   "cell_type": "markdown",
   "metadata": {},
   "source": [
    "## Codificar data categorica (texto)"
   ]
  },
  {
   "cell_type": "code",
   "execution_count": 75,
   "metadata": {},
   "outputs": [],
   "source": [
    "# from sklearn.preprocessing import LabelEncoder\n",
    "# le = LabelEncoder()\n",
    "# # Se codifica el nombre de la prueba\n",
    "# X[:,0] = le.fit_transform(X[:,0])\n",
    "# # Se codifica la unidad de medicion\n",
    "# X[:,1] = le.fit_transform(X[:,1])\n",
    "\n",
    "from sklearn.compose import ColumnTransformer\n",
    "from sklearn.preprocessing import OneHotEncoder\n",
    "ct = ColumnTransformer(transformers=[('encoder', OneHotEncoder(sparse=False), [0])],remainder='passthrough')\n",
    "X = np.array(ct.fit_transform(X))\n",
    "ct = ColumnTransformer(transformers=[('encoder', OneHotEncoder(sparse=False), [-4])],remainder='passthrough')\n",
    "X = np.array(ct.fit_transform(X))"
   ]
  },
  {
   "cell_type": "code",
   "execution_count": 76,
   "metadata": {},
   "outputs": [
    {
     "name": "stdout",
     "output_type": "stream",
     "text": [
      "[0.0 0.0 0.0 ... 0.0 0.0 0.0]\n"
     ]
    }
   ],
   "source": [
    "print(X[:,-4])"
   ]
  },
  {
   "cell_type": "markdown",
   "metadata": {},
   "source": [
    "## Dividir el dataset entre el training set y el test set"
   ]
  },
  {
   "cell_type": "code",
   "execution_count": 77,
   "metadata": {},
   "outputs": [],
   "source": [
    "from sklearn.model_selection import train_test_split\n",
    "X_train, X_test, y_train, y_test = train_test_split(X, y, test_size=0.2, random_state=0)"
   ]
  },
  {
   "cell_type": "markdown",
   "metadata": {},
   "source": [
    "## Escalamiento de los datos"
   ]
  },
  {
   "cell_type": "code",
   "execution_count": 78,
   "metadata": {},
   "outputs": [
    {
     "name": "stdout",
     "output_type": "stream",
     "text": [
      "[[0.0 0.0 0.0 ... 1.0 1.0 0.0]\n",
      " [0.0 0.0 0.0 ... 3900.0 4100.0 0.0]\n",
      " [0.0 0.0 0.0 ... 0.0 0.0 1.0]\n",
      " ...\n",
      " [0.0 0.0 0.0 ... 1.0 1.0 0.0]\n",
      " [0.0 0.0 0.0 ... 0.5 2.0 0.004671963]\n",
      " [0.0 0.0 0.0 ... 0.0 0.0 4.0]]\n"
     ]
    }
   ],
   "source": [
    "from sklearn.preprocessing import StandardScaler\n",
    "sc = StandardScaler()\n",
    "X_train = sc.fit_transform(X_train)\n",
    "X_test = sc.transform(X_test)"
   ]
  }
 ],
 "metadata": {
  "kernelspec": {
   "display_name": "Python 3.9.12 ('base')",
   "language": "python",
   "name": "python3"
  },
  "language_info": {
   "codemirror_mode": {
    "name": "ipython",
    "version": 3
   },
   "file_extension": ".py",
   "mimetype": "text/x-python",
   "name": "python",
   "nbconvert_exporter": "python",
   "pygments_lexer": "ipython3",
   "version": "3.9.15"
  },
  "orig_nbformat": 4,
  "vscode": {
   "interpreter": {
    "hash": "12eea7bafc55a1df74fc1169138eb91c286585bc870bcda305a750c592ba726e"
   }
  }
 },
 "nbformat": 4,
 "nbformat_minor": 2
}
